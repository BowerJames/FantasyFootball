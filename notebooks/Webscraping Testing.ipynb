{
 "cells": [
  {
   "cell_type": "code",
   "execution_count": 1,
   "id": "dbc47b35",
   "metadata": {},
   "outputs": [],
   "source": [
    "import ff\n",
    "import requests\n",
    "import pandas as pd\n",
    "from bs4 import BeautifulSoup\n",
    "from tqdm import tqdm\n",
    "import os"
   ]
  },
  {
   "cell_type": "code",
   "execution_count": 2,
   "id": "5e63c9e1",
   "metadata": {},
   "outputs": [],
   "source": [
    "bs = BeautifulSoup(requests.get(\"http://fantasyoverlord.com/FPL/History#google_vignette\").content,\"html.parser\")"
   ]
  },
  {
   "cell_type": "code",
   "execution_count": 3,
   "id": "275aaf87",
   "metadata": {},
   "outputs": [],
   "source": [
    "results = bs.find(id=\"History\")"
   ]
  },
  {
   "cell_type": "code",
   "execution_count": 4,
   "id": "e5555fe7",
   "metadata": {},
   "outputs": [],
   "source": [
    "csvs = results.find_all(\"a\")"
   ]
  },
  {
   "cell_type": "code",
   "execution_count": 5,
   "id": "359eed49",
   "metadata": {},
   "outputs": [],
   "source": [
    "hrefs = [element['href'] for element in csvs if 'History' in element['href']]"
   ]
  },
  {
   "cell_type": "code",
   "execution_count": 12,
   "id": "a3e8a22d",
   "metadata": {},
   "outputs": [
    {
     "name": "stderr",
     "output_type": "stream",
     "text": [
      "100%|████████████████████████████████████████████████████████████████████████████████| 235/235 [04:18<00:00,  1.10s/it]\n"
     ]
    }
   ],
   "source": [
    "for i in tqdm(range(len(hrefs))):\n",
    "    try:\n",
    "        df = pd.read_csv(\"http://fantasyoverlord.com\" + hrefs[i])\n",
    "        df.to_csv(os.path.join(ff.PROJECT_ROOT,'data','raw',f\"{hrefs[i].split('=')[-1]}.csv\"), index=False)\n",
    "    except:\n",
    "        pass"
   ]
  },
  {
   "cell_type": "code",
   "execution_count": 10,
   "id": "341a3fa3",
   "metadata": {},
   "outputs": [
    {
     "data": {
      "text/plain": [
       "['/FPL/History?file=FPL19-GW1',\n",
       " '/FPL/History?file=FPL19-GW2',\n",
       " '/FPL/History?file=FPL19-GW3',\n",
       " '/FPL/History?file=FPL19-GW4',\n",
       " '/FPL/History?file=FPL19-GW5']"
      ]
     },
     "execution_count": 10,
     "metadata": {},
     "output_type": "execute_result"
    }
   ],
   "source": [
    "hrefs[110:115]"
   ]
  },
  {
   "cell_type": "code",
   "execution_count": 13,
   "id": "82bf430f",
   "metadata": {},
   "outputs": [
    {
     "data": {
      "text/plain": [
       "<a href=\"/FPL/About\">About</a>"
      ]
     },
     "execution_count": 13,
     "metadata": {},
     "output_type": "execute_result"
    }
   ],
   "source": [
    "csvs[0]"
   ]
  },
  {
   "cell_type": "code",
   "execution_count": null,
   "id": "b5fa6669",
   "metadata": {},
   "outputs": [],
   "source": []
  }
 ],
 "metadata": {
  "kernelspec": {
   "display_name": "ff",
   "language": "python",
   "name": "ff"
  },
  "language_info": {
   "codemirror_mode": {
    "name": "ipython",
    "version": 3
   },
   "file_extension": ".py",
   "mimetype": "text/x-python",
   "name": "python",
   "nbconvert_exporter": "python",
   "pygments_lexer": "ipython3",
   "version": "3.10.8"
  }
 },
 "nbformat": 4,
 "nbformat_minor": 5
}
