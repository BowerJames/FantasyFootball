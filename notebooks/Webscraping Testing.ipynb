{
 "cells": [
  {
   "cell_type": "code",
   "execution_count": null,
   "id": "dbc47b35",
   "metadata": {},
   "outputs": [],
   "source": [
    "import ff\n",
    "import requests\n",
    "import pandas as pd\n",
    "from bs4 import BeautifulSoup\n",
    "from tqdm import tqdm\n",
    "import os"
   ]
  },
  {
   "cell_type": "code",
   "execution_count": null,
   "id": "5e63c9e1",
   "metadata": {},
   "outputs": [],
   "source": [
    "bs = BeautifulSoup(requests.get(\"http://fantasyoverlord.com/FPL/History#google_vignette\").content,\"html.parser\")"
   ]
  },
  {
   "cell_type": "code",
   "execution_count": null,
   "id": "275aaf87",
   "metadata": {},
   "outputs": [],
   "source": [
    "results = bs.find(id=\"History\")"
   ]
  },
  {
   "cell_type": "code",
   "execution_count": null,
   "id": "e5555fe7",
   "metadata": {},
   "outputs": [],
   "source": [
    "csvs = results.find_all(\"a\")"
   ]
  },
  {
   "cell_type": "code",
   "execution_count": null,
   "id": "359eed49",
   "metadata": {},
   "outputs": [],
   "source": [
    "hrefs = [element['href'] for element in csvs if 'History' in element['href']]"
   ]
  },
  {
   "cell_type": "code",
   "execution_count": null,
   "id": "a3e8a22d",
   "metadata": {},
   "outputs": [],
   "source": [
    "for i in tqdm(range(len(hrefs))):\n",
    "    try:\n",
    "        df = pd.read_csv(\"http://fantasyoverlord.com\" + hrefs[i])\n",
    "        df.to_csv(os.path.join(ff.PROJECT_ROOT,'data','raw',f\"{hrefs[i].split('=')[-1]}.csv\"), index=False)\n",
    "    except:\n",
    "        pass"
   ]
  },
  {
   "cell_type": "code",
   "execution_count": null,
   "id": "6455132c",
   "metadata": {},
   "outputs": [],
   "source": [
    "hrefs[110:115]"
   ]
  },
  {
   "cell_type": "code",
   "execution_count": null,
   "id": "19b1b116",
   "metadata": {},
   "outputs": [],
   "source": []
  }
 ],
 "metadata": {
  "interpreter": {
   "hash": "0d3bcb932064d2a347a0ad84a82d3a18ed9f27eff0a9087636fefbea6d818fdc"
  },
  "kernelspec": {
   "display_name": "ff",
   "language": "python",
   "name": "python3"
  },
  "language_info": {
   "codemirror_mode": {
    "name": "ipython",
    "version": 3
   },
   "file_extension": ".py",
   "mimetype": "text/x-python",
   "name": "python",
   "nbconvert_exporter": "python",
   "pygments_lexer": "ipython3",
   "version": "3.10.8"
  }
 },
 "nbformat": 4,
 "nbformat_minor": 5
}
