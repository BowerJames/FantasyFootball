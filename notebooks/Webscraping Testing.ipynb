{
 "cells": [
  {
   "cell_type": "code",
   "execution_count": null,
   "id": "dbc47b35",
   "metadata": {},
   "outputs": [],
   "source": [
    "import ff\n",
    "import requests\n",
    "import pandas as pd\n",
    "from tqdm import tqdm\n",
    "import os\n",
    "import json"
   ]
  },
  {
   "cell_type": "code",
   "execution_count": null,
   "id": "a851002b",
   "metadata": {},
   "outputs": [],
   "source": [
    "with open(os.path.join(ff.PROJECT_ROOT,'src','ff','clubs','configs','clubs.json')) as f:\n",
    "    clubs_json = json.load(f)\n",
    "clubs_json"
   ]
  },
  {
   "cell_type": "code",
   "execution_count": null,
   "id": "6c96c189",
   "metadata": {},
   "outputs": [],
   "source": [
    "arsenal_config = clubs_json['clubs'][0]\n",
    "endpoint = \" http://api.clubelo.com/{}\"\n",
    "\n",
    "response = requests.get(endpoint.format(arsenal_config['clubelo_name']))"
   ]
  },
  {
   "cell_type": "code",
   "execution_count": null,
   "id": "1655b080",
   "metadata": {},
   "outputs": [],
   "source": [
    "response.status_code"
   ]
  },
  {
   "cell_type": "code",
   "execution_count": null,
   "id": "0888d606",
   "metadata": {},
   "outputs": [],
   "source": [
    "with open(os.path.join(ff.PROJECT_ROOT,'data','raw',f\"{arsenal_config['name']}_elo.csv\"),'w') as f:\n",
    "    f.write(response.content.decode(\"utf-8\"))"
   ]
  },
  {
   "cell_type": "code",
   "execution_count": null,
   "id": "ccbf35f5",
   "metadata": {},
   "outputs": [],
   "source": [
    "for club_config in clubs_json['clubs']:\n",
    "    response = requests.get(f\"http://api.clubelo.com/{club_config['clubelo_name']}\")\n",
    "\n",
    "    if response.status_code==200:\n",
    "        with open(os.path.join(ff.PROJECT_ROOT,'data','raw',f\"{club_config['name']}_elo.csv\"),'w') as f:\n",
    "            f.write(response.content.decode(\"utf-8\"))\n",
    "    else:\n",
    "        print(f\"Elo data for {club_config['name']} did not load.\")\n"
   ]
  }
 ],
 "metadata": {
  "interpreter": {
   "hash": "0d3bcb932064d2a347a0ad84a82d3a18ed9f27eff0a9087636fefbea6d818fdc"
  },
  "kernelspec": {
   "display_name": "ff",
   "language": "python",
   "name": "python3"
  },
  "language_info": {
   "codemirror_mode": {
    "name": "ipython",
    "version": 3
   },
   "file_extension": ".py",
   "mimetype": "text/x-python",
   "name": "python",
   "nbconvert_exporter": "python",
   "pygments_lexer": "ipython3",
   "version": "3.10.8"
  }
 },
 "nbformat": 4,
 "nbformat_minor": 5
}
